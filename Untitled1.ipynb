{
  "nbformat": 4,
  "nbformat_minor": 0,
  "metadata": {
    "colab": {
      "provenance": [],
      "authorship_tag": "ABX9TyPRKBH06Vq8XvyfWzoi1ggz",
      "include_colab_link": true
    },
    "kernelspec": {
      "name": "python3",
      "display_name": "Python 3"
    },
    "language_info": {
      "name": "python"
    }
  },
  "cells": [
    {
      "cell_type": "markdown",
      "metadata": {
        "id": "view-in-github",
        "colab_type": "text"
      },
      "source": [
        "<a href=\"https://colab.research.google.com/github/ReCarla/Aula-Gama-de-Git/blob/master/Untitled1.ipynb\" target=\"_parent\"><img src=\"https://colab.research.google.com/assets/colab-badge.svg\" alt=\"Open In Colab\"/></a>"
      ]
    },
    {
      "cell_type": "code",
      "execution_count": 10,
      "metadata": {
        "id": "Ok_0nhM8vp_l"
      },
      "outputs": [],
      "source": [
        "def calculadora(num1, num2, operação):\n",
        " if operacao == 1:\n",
        "  resultado = num1 + num2\n",
        " elif operacao == 2:\n",
        "  resultado = num1 - num2\n",
        " elif operacao == 3:\n",
        "  resultado = num1 * num2\n",
        " elif operacao == 4:\n",
        "  if num2 != 0:  \n",
        "    resultado = num1 / num2\n",
        "  else:\n",
        "    resultado = 0\n",
        "  \n",
        "\n",
        "\n"
      ]
    },
    {
      "cell_type": "code",
      "source": [
        "def calculadora(num1, num2, operacao):\n",
        "  if (operacao == 1):\n",
        "    return  num1 + num2\n",
        "  elif (operacao == 2):\n",
        "    return  num1 - num2\n",
        "  elif (operacao == 3):\n",
        "    return  num1 * num2\n",
        "  elif (operacao == 4):\n",
        "    return  num1 / num2\n",
        "  else:\n",
        "    return 0\n",
        "\n",
        "resultado = calculadora (4, 7, 1)\n",
        "print (resultado)\n",
        "        \n",
        " "
      ],
      "metadata": {
        "colab": {
          "base_uri": "https://localhost:8080/"
        },
        "id": "cWI7xwfRyLep",
        "outputId": "d96d11b8-dd88-4e40-f086-088076b73a41"
      },
      "execution_count": 31,
      "outputs": [
        {
          "output_type": "stream",
          "name": "stdout",
          "text": [
            "11\n"
          ]
        }
      ]
    }
  ]
}